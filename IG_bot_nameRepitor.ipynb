{
 "cells": [
  {
   "cell_type": "code",
   "execution_count": 34,
   "metadata": {},
   "outputs": [],
   "source": [
    "from selenium import webdriver\n",
    "from selenium.webdriver.common.keys import Keys\n",
    "from selenium.webdriver.support import expected_conditions as EC\n",
    "from selenium.webdriver.common.by import By\n",
    "from selenium.webdriver.support.wait import WebDriverWait\n",
    "import os\n",
    "import wget\n",
    "from time import sleep\n",
    "import pandas as pd\n",
    "import random"
   ]
  },
  {
   "attachments": {},
   "cell_type": "markdown",
   "metadata": {},
   "source": [
    "### Este código busca los followers de Gabi, después se mete a cada uno y saca sus followers. Por último, saca una tabla de los nombres que más se repiten entre los followers."
   ]
  },
  {
   "cell_type": "code",
   "execution_count": 35,
   "metadata": {},
   "outputs": [
    {
     "name": "stderr",
     "output_type": "stream",
     "text": [
      "C:\\Users\\ale45\\AppData\\Local\\Temp\\ipykernel_108\\3431399881.py:4: DeprecationWarning: executable_path has been deprecated, please pass in a Service object\n",
      "  driver = webdriver.Chrome('C:/Users/ale45/Desktop/WebScrapping/chromedriver.exe', options=c)\n"
     ]
    }
   ],
   "source": [
    "c = webdriver.ChromeOptions()\n",
    "c.add_argument(\"--incognito\")\n",
    "# c.add_argument(\"--start-maximized\")\n",
    "driver = webdriver.Chrome(' ', options=c) ## Input driver directory\n",
    "driver.get('https://www.instagram.com/')\n",
    "username = WebDriverWait(driver,10).until(\n",
    "    EC.element_to_be_clickable((By.XPATH, '//*[@id=\"loginForm\"]/div/div[1]/div/label/input'))\n",
    "    )\n",
    "\n",
    "password = WebDriverWait(driver,10).until(\n",
    "    EC.element_to_be_clickable((By.XPATH, '//*[@id=\"loginForm\"]/div/div[2]/div/label/input'))\n",
    "    )\n",
    "\n",
    "username.send_keys(' ') ## Input username\n",
    "password.send_keys(' ') ## Input Password\n",
    "\n",
    "log_in = WebDriverWait(driver,10).until(\n",
    "    EC.element_to_be_clickable((By.XPATH, '//*[@id=\"loginForm\"]/div/div[3]/button/div'))).click()\n",
    "    \n",
    "try:\n",
    "    not_now = WebDriverWait(driver,10).until(EC.element_to_be_clickable((By.XPATH, \"//button[contains(text(),'Not Now')]\"))).click()\n",
    "    not_now2 = WebDriverWait(driver,10).until(EC.element_to_be_clickable((By.XPATH, \"//button[contains(text(),'Not Now')]\"))).click()\n",
    "except:\n",
    "    pass"
   ]
  },
  {
   "cell_type": "code",
   "execution_count": 4,
   "metadata": {},
   "outputs": [],
   "source": [
    "def get_followers_num(User):\n",
    "    link = 'https://www.instagram.com/' + User\n",
    "    driver.get(link)\n",
    "    sleep(3)\n",
    "    num_seg = driver.find_element(By.XPATH,'/html/body/div[2]/div/div/div/div[1]/div/div/div/div[1]/div[1]/div[2]/' + \n",
    "    'section/main/div/header/section/ul/li[2]/a/div/span/span').get_attribute('innerHTML')\n",
    "    return int(num_seg.replace(',',''))\n"
   ]
  },
  {
   "cell_type": "code",
   "execution_count": 5,
   "metadata": {},
   "outputs": [],
   "source": [
    "def scroll_em(num_seg):\n",
    "    if num_seg > 500:\n",
    "        num_seg = 500\n",
    "    for i in range(int(num_seg/12)):\n",
    "        driver.execute_script(\"\"\"\n",
    "        var scrollt = document.querySelector('div[role=\"dialog\"] ._aano')\n",
    "        scrollt.scrollTop = scrollt.scrollHeight\n",
    "        \"\"\")\n",
    "        sleep(2.5)"
   ]
  },
  {
   "cell_type": "code",
   "execution_count": 6,
   "metadata": {},
   "outputs": [],
   "source": [
    "def get_followers_names(User, num_fwers):\n",
    "    driver.get('https://www.instagram.com/' + User + '/followers/')\n",
    "    sleep(3)\n",
    "    scroll_em(num_fwers)\n",
    "    names = []\n",
    "    xpath = ('//*[@class=\" _ab8y  _ab94 _ab97 _ab9f _ab9k _ab9p _abcm\"]')\n",
    "    names_driver = driver.find_elements(By.XPATH,xpath)\n",
    "    names = [name.get_attribute('innerHTML') for name in names_driver]\n",
    "\n",
    "        \n",
    "    return names\n"
   ]
  },
  {
   "cell_type": "code",
   "execution_count": 7,
   "metadata": {},
   "outputs": [],
   "source": [
    "\n",
    "Followers_i = []\n",
    "# Followers_gabi_num = get_followers_num('gabal_2003')\n",
    "# Followers_gabi = get_followers_names('gabal_2003')\n",
    "# Followers_gabi = Followers_gabi[0:Followers_gabi_num]\n",
    "Followers_gabi = ['dkroshani_90','ashutosh','maheshsinghz3','abhi.she5083']\n",
    "Followers_gabi_num = 4"
   ]
  },
  {
   "cell_type": "code",
   "execution_count": 8,
   "metadata": {},
   "outputs": [],
   "source": [
    "for i in Followers_gabi:\n",
    "    num_seg = get_followers_num(i)\n",
    "    Followers_i.append(get_followers_names(i,num_seg))\n",
    "    \n"
   ]
  },
  {
   "cell_type": "code",
   "execution_count": 9,
   "metadata": {},
   "outputs": [],
   "source": [
    "conteo = []\n",
    "Listota = [item for sublist in Followers_i for item in sublist]\n",
    "ListotaSet = list(set(Listota))\n",
    "for i in ListotaSet:\n",
    "    conteo.append(Listota.count(i))\n"
   ]
  },
  {
   "cell_type": "code",
   "execution_count": 22,
   "metadata": {},
   "outputs": [],
   "source": [
    "Tabla = pd.DataFrame()\n",
    "Tabla['Usuario'] = ListotaSet\n",
    "Tabla['Cuenta'] = conteo\n",
    "Tabla = Tabla.sort_values(['Cuenta'],ascending=False)\n"
   ]
  },
  {
   "cell_type": "code",
   "execution_count": 32,
   "metadata": {},
   "outputs": [],
   "source": [
    "Tabla_filter = Tabla.head(31)\n",
    "Usuarios_filter = Tabla_filter['Usuario'].to_list()\n",
    "Usuarios_filter.remove('gabal_2003')\n"
   ]
  },
  {
   "cell_type": "code",
   "execution_count": 33,
   "metadata": {},
   "outputs": [
    {
     "ename": "KeyboardInterrupt",
     "evalue": "",
     "output_type": "error",
     "traceback": [
      "\u001b[1;31m---------------------------------------------------------------------------\u001b[0m",
      "\u001b[1;31mKeyboardInterrupt\u001b[0m                         Traceback (most recent call last)",
      "Cell \u001b[1;32mIn[33], line 6\u001b[0m\n\u001b[0;32m      3\u001b[0m sleep(\u001b[39m3\u001b[39m)\n\u001b[0;32m      4\u001b[0m Follow \u001b[39m=\u001b[39m driver\u001b[39m.\u001b[39mfind_element(By\u001b[39m.\u001b[39mXPATH,\u001b[39m'\u001b[39m\u001b[39m/html/body/div[2]/div/div/div/div[1]/div/div/div/div[1]/div[1]/div[2]/section/main/div/header/section/div[1]/div[1]/div/div[1]/button\u001b[39m\u001b[39m'\u001b[39m\n\u001b[0;32m      5\u001b[0m             )\u001b[39m.\u001b[39mclick()\n\u001b[1;32m----> 6\u001b[0m sleep(\u001b[39m3\u001b[39;49m)\n",
      "\u001b[1;31mKeyboardInterrupt\u001b[0m: "
     ]
    }
   ],
   "source": [
    "for i in Usuarios_filter:\n",
    "    driver.get('https://www.instagram.com/' + i)\n",
    "    sleep(3)\n",
    "    Follow = driver.find_element(By.XPATH,'/html/body/div[2]/div/div/div/div[1]/div/div/div/div[1]/div[1]/div[2]/section/main/div/header/section/div[1]/div[1]/div/div[1]/button'\n",
    "                ).click()\n",
    "    sleep(3)\n"
   ]
  }
 ],
 "metadata": {
  "kernelspec": {
   "display_name": "Python 3",
   "language": "python",
   "name": "python3"
  },
  "language_info": {
   "codemirror_mode": {
    "name": "ipython",
    "version": 3
   },
   "file_extension": ".py",
   "mimetype": "text/x-python",
   "name": "python",
   "nbconvert_exporter": "python",
   "pygments_lexer": "ipython3",
   "version": "3.8.9"
  },
  "orig_nbformat": 4,
  "vscode": {
   "interpreter": {
    "hash": "480f72bcb4ac4b1ec444e7a7fa62784d37314d2951c9c9a2db818fe6fe2d902a"
   }
  }
 },
 "nbformat": 4,
 "nbformat_minor": 2
}
