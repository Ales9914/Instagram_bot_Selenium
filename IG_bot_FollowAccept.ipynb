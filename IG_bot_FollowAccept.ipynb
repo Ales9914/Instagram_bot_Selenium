{
 "cells": [
  {
   "cell_type": "code",
   "execution_count": 4,
   "metadata": {},
   "outputs": [],
   "source": [
    "\n",
    "from selenium import webdriver\n",
    "from selenium.webdriver.common.keys import Keys\n",
    "from selenium.webdriver.support import expected_conditions as EC\n",
    "from selenium.webdriver.common.by import By\n",
    "from selenium.webdriver.support.wait import WebDriverWait\n",
    "from time import sleep\n"
   ]
  },
  {
   "cell_type": "code",
   "execution_count": 5,
   "metadata": {},
   "outputs": [
    {
     "name": "stderr",
     "output_type": "stream",
     "text": [
      "C:\\Users\\ale45\\AppData\\Local\\Temp\\ipykernel_15552\\3431399881.py:4: DeprecationWarning: executable_path has been deprecated, please pass in a Service object\n",
      "  driver = webdriver.Chrome('C:/Users/ale45/Desktop/WebScrapping/chromedriver.exe', options=c)\n"
     ]
    }
   ],
   "source": [
    "c = webdriver.ChromeOptions()\n",
    "c.add_argument(\"--incognito\")\n",
    "# c.add_argument(\"--start-maximized\")\n",
    "driver = webdriver.Chrome(' ', options=c) ## Input driver directory\n",
    "driver.get('https://www.instagram.com/')\n",
    "username = WebDriverWait(driver,10).until(\n",
    "    EC.element_to_be_clickable((By.XPATH, '//*[@id=\"loginForm\"]/div/div[1]/div/label/input'))\n",
    "    )\n",
    "\n",
    "password = WebDriverWait(driver,10).until(\n",
    "    EC.element_to_be_clickable((By.XPATH, '//*[@id=\"loginForm\"]/div/div[2]/div/label/input'))\n",
    "    )\n",
    "\n",
    "username.send_keys(' ') ## Input username\n",
    "password.send_keys(' ') ## Input Password\n",
    "\n",
    "log_in = WebDriverWait(driver,10).until(\n",
    "    EC.element_to_be_clickable((By.XPATH, '//*[@id=\"loginForm\"]/div/div[3]/button/div'))).click()\n",
    "    \n",
    "try:\n",
    "    not_now = WebDriverWait(driver,10).until(EC.element_to_be_clickable((By.XPATH, \"//button[contains(text(),'Not Now')]\"))).click()\n",
    "    not_now2 = WebDriverWait(driver,10).until(EC.element_to_be_clickable((By.XPATH, \"//button[contains(text(),'Not Now')]\"))).click()\n",
    "except:\n",
    "    pass"
   ]
  },
  {
   "cell_type": "code",
   "execution_count": 14,
   "metadata": {},
   "outputs": [],
   "source": [
    "Notifications = WebDriverWait(driver,10).until(\n",
    "    EC.element_to_be_clickable((By.XPATH, \n",
    "    \"/html/body/div[2]/div/div/div/div[1]/div/div/div/div[1]/div[1]/div[1]/div/div/div/div/div[2]/div[6]\"))\n",
    "    ).click()\n",
    "\n",
    "try:\n",
    "\n",
    "    Follow_request = WebDriverWait(driver,10).until(\n",
    "        EC.element_to_be_clickable((By.XPATH, \n",
    "        \"/html/body/div[2]/div/div/div/div[1]/div/div/div/div[1]/div[1]/div[1]/div/div/div[2]/div/div/div/div/div[2]/div[2]/span\"))\n",
    "        ).click()\n",
    "except:\n",
    "    pass\n",
    "\n",
    "\n",
    "\n",
    "    \n"
   ]
  },
  {
   "cell_type": "code",
   "execution_count": 15,
   "metadata": {},
   "outputs": [],
   "source": [
    "Confirm_buttons = driver.find_elements(By.XPATH,\"//button[contains(text(),'Confirm')]\")\n",
    "clicker = [i.click() for i in Confirm_buttons]\n"
   ]
  }
 ],
 "metadata": {
  "kernelspec": {
   "display_name": "Python 3",
   "language": "python",
   "name": "python3"
  },
  "language_info": {
   "codemirror_mode": {
    "name": "ipython",
    "version": 3
   },
   "file_extension": ".py",
   "mimetype": "text/x-python",
   "name": "python",
   "nbconvert_exporter": "python",
   "pygments_lexer": "ipython3",
   "version": "3.8.9"
  },
  "orig_nbformat": 4,
  "vscode": {
   "interpreter": {
    "hash": "480f72bcb4ac4b1ec444e7a7fa62784d37314d2951c9c9a2db818fe6fe2d902a"
   }
  }
 },
 "nbformat": 4,
 "nbformat_minor": 2
}
